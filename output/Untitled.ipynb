{
 "cells": [
  {
   "cell_type": "code",
   "execution_count": 4,
   "id": "2ee28aaf",
   "metadata": {},
   "outputs": [
    {
     "data": {
      "text/html": [
       "<div>\n",
       "<style scoped>\n",
       "    .dataframe tbody tr th:only-of-type {\n",
       "        vertical-align: middle;\n",
       "    }\n",
       "\n",
       "    .dataframe tbody tr th {\n",
       "        vertical-align: top;\n",
       "    }\n",
       "\n",
       "    .dataframe thead th {\n",
       "        text-align: right;\n",
       "    }\n",
       "</style>\n",
       "<table border=\"1\" class=\"dataframe\">\n",
       "  <thead>\n",
       "    <tr style=\"text-align: right;\">\n",
       "      <th></th>\n",
       "      <th>country</th>\n",
       "      <th>created_update</th>\n",
       "      <th>name</th>\n",
       "      <th>student_id</th>\n",
       "      <th>surname</th>\n",
       "      <th>update_date</th>\n",
       "    </tr>\n",
       "  </thead>\n",
       "  <tbody>\n",
       "    <tr>\n",
       "      <th>0</th>\n",
       "      <td>US</td>\n",
       "      <td>2021-11-07 19:55:35</td>\n",
       "      <td>biyonsé</td>\n",
       "      <td>NaN</td>\n",
       "      <td>KNOWLES</td>\n",
       "      <td>2021-11-07 19:55:35</td>\n",
       "    </tr>\n",
       "    <tr>\n",
       "      <th>1</th>\n",
       "      <td>US</td>\n",
       "      <td>2021-11-07 20:06:50</td>\n",
       "      <td>KANYE</td>\n",
       "      <td>1234500HHJ32</td>\n",
       "      <td>WEST</td>\n",
       "      <td>NaN</td>\n",
       "    </tr>\n",
       "    <tr>\n",
       "      <th>2</th>\n",
       "      <td>US</td>\n",
       "      <td>2021-11-07 20:06:50</td>\n",
       "      <td>biyonsé</td>\n",
       "      <td>12345V4HJ237</td>\n",
       "      <td>KNOWLES</td>\n",
       "      <td>2021-11-07 20:06:50</td>\n",
       "    </tr>\n",
       "  </tbody>\n",
       "</table>\n",
       "</div>"
      ],
      "text/plain": [
       "  country       created_update     name    student_id  surname  \\\n",
       "0      US  2021-11-07 19:55:35  biyonsé           NaN  KNOWLES   \n",
       "1      US  2021-11-07 20:06:50    KANYE  1234500HHJ32     WEST   \n",
       "2      US  2021-11-07 20:06:50  biyonsé  12345V4HJ237  KNOWLES   \n",
       "\n",
       "           update_date  \n",
       "0  2021-11-07 19:55:35  \n",
       "1                  NaN  \n",
       "2  2021-11-07 20:06:50  "
      ]
     },
     "execution_count": 4,
     "metadata": {},
     "output_type": "execute_result"
    }
   ],
   "source": [
    "import pandas as pd\n",
    "df = pd.read_csv(\"sql_table.csv\")\n",
    "df"
   ]
  }
 ],
 "metadata": {
  "kernelspec": {
   "display_name": "option1",
   "language": "python",
   "name": "option1"
  },
  "language_info": {
   "codemirror_mode": {
    "name": "ipython",
    "version": 3
   },
   "file_extension": ".py",
   "mimetype": "text/x-python",
   "name": "python",
   "nbconvert_exporter": "python",
   "pygments_lexer": "ipython3",
   "version": "3.8.5"
  }
 },
 "nbformat": 4,
 "nbformat_minor": 5
}
